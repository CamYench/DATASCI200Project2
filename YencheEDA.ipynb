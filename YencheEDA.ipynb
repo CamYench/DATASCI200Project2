{
 "cells": [
  {
   "cell_type": "markdown",
   "id": "d134f3a5-5f0f-45ad-921f-18c781c7ef55",
   "metadata": {},
   "source": [
    "This Notebook contains EDA for Project 2 of DATASCI 200 that examines the influence of geographic and socioeconomic factors on one's reported happiness. This report concerns itself with two datasets: \n",
    "1\\) 2005-Present World Happiness Report \n",
    "2\\) S&P 500 Index Market Trend Data"
   ]
  },
  {
   "cell_type": "markdown",
   "id": "c4b578e3-6751-4ba2-ba16-7d46cb5f7231",
   "metadata": {},
   "source": [
    "First we will start by loading in the two datasets:"
   ]
  },
  {
   "cell_type": "code",
   "execution_count": 38,
   "id": "31767b2d-95a3-449e-b2ba-3555b467960b",
   "metadata": {},
   "outputs": [],
   "source": [
    "# Load in both datasets as pandas data frames\n",
    "\n",
    "# Before we do that, we must import the proper libraries\n",
    "import numpy as np\n",
    "import pandas as pd\n",
    "import matplotlib as plt\n",
    "\n",
    "# Load in the Wold Happiness report dataset\n",
    "world_happiness = pd.read_csv('WorldHappinessReport.csv')\n",
    "\n",
    "# Load in the S&P500 Index Trend Data\n",
    "SP_Data = pd.read_csv('S&P500Data.csv')"
   ]
  },
  {
   "cell_type": "code",
   "execution_count": 39,
   "id": "e50cfa7a-b428-4fbc-ac75-4930f9c48cf5",
   "metadata": {},
   "outputs": [
    {
     "name": "stdout",
     "output_type": "stream",
     "text": [
      "(2199, 13)\n"
     ]
    }
   ],
   "source": [
    "# Check the size of the World Happiness report data\n",
    "print(world_happiness.shape)"
   ]
  },
  {
   "cell_type": "code",
   "execution_count": 40,
   "id": "ff3662e0-195e-4450-922e-6d48b6944475",
   "metadata": {},
   "outputs": [
    {
     "name": "stdout",
     "output_type": "stream",
     "text": [
      "  Country Name Regional Indicator  Year  Life Ladder  Log GDP Per Capita  \\\n",
      "0  Afghanistan         South Asia  2008     3.723590            7.350416   \n",
      "1  Afghanistan         South Asia  2009     4.401778            7.508646   \n",
      "2  Afghanistan         South Asia  2010     4.758381            7.613900   \n",
      "3  Afghanistan         South Asia  2011     3.831719            7.581259   \n",
      "4  Afghanistan         South Asia  2012     3.782938            7.660506   \n",
      "\n",
      "   Social Support  Healthy Life Expectancy At Birth  \\\n",
      "0        0.450662                         50.500000   \n",
      "1        0.552308                         50.799999   \n",
      "2        0.539075                         51.099998   \n",
      "3        0.521104                         51.400002   \n",
      "4        0.520637                         51.700001   \n",
      "\n",
      "   Freedom To Make Life Choices  Generosity  Perceptions Of Corruption  \\\n",
      "0                      0.718114    0.167652                   0.881686   \n",
      "1                      0.678896    0.190809                   0.850035   \n",
      "2                      0.600127    0.121316                   0.706766   \n",
      "3                      0.495901    0.163571                   0.731109   \n",
      "4                      0.530935    0.237588                   0.775620   \n",
      "\n",
      "   Positive Affect  Negative Affect  Confidence In National Government  \n",
      "0         0.414297         0.258195                           0.612072  \n",
      "1         0.481421         0.237092                           0.611545  \n",
      "2         0.516907         0.275324                           0.299357  \n",
      "3         0.479835         0.267175                           0.307386  \n",
      "4         0.613513         0.267919                           0.435440  \n"
     ]
    }
   ],
   "source": [
    "# Examine the World Happiness report data\n",
    "print(world_happiness.head())"
   ]
  },
  {
   "cell_type": "code",
   "execution_count": 41,
   "id": "6c593f11-b724-466c-b689-9d4eb2733b7e",
   "metadata": {},
   "outputs": [
    {
     "name": "stdout",
     "output_type": "stream",
     "text": [
      "(2541, 6)\n"
     ]
    }
   ],
   "source": [
    "# Check the size of the S&P500 dataset\n",
    "print(SP_Data.shape)"
   ]
  },
  {
   "cell_type": "code",
   "execution_count": 42,
   "id": "926684c6-8d5a-4e66-9f32-ba87f23c1ea0",
   "metadata": {},
   "outputs": [
    {
     "name": "stdout",
     "output_type": "stream",
     "text": [
      "         Date  Close/Last Volume     Open     High      Low\n",
      "0  04/14/2023     4137.64     --  4140.11  4163.19  4113.20\n",
      "1  04/13/2023     4146.22     --  4100.04  4150.26  4099.40\n",
      "2  04/12/2023     4091.95     --  4121.72  4134.37  4086.94\n",
      "3  04/11/2023     4108.94     --  4110.29  4124.26  4102.61\n",
      "4  04/10/2023     4109.11     --  4085.20  4109.50  4072.55\n"
     ]
    }
   ],
   "source": [
    "# Examine the S&P500 Index Trend Data\n",
    "print(SP_Data.head())"
   ]
  },
  {
   "cell_type": "code",
   "execution_count": 43,
   "id": "0e6d133b-da74-4a17-ba11-3232e7ce60de",
   "metadata": {},
   "outputs": [
    {
     "name": "stdout",
     "output_type": "stream",
     "text": [
      "         Date  Close/Last     Open     High      Low\n",
      "0  04/14/2023     4137.64  4140.11  4163.19  4113.20\n",
      "1  04/13/2023     4146.22  4100.04  4150.26  4099.40\n",
      "2  04/12/2023     4091.95  4121.72  4134.37  4086.94\n",
      "3  04/11/2023     4108.94  4110.29  4124.26  4102.61\n",
      "4  04/10/2023     4109.11  4085.20  4109.50  4072.55\n"
     ]
    }
   ],
   "source": [
    "# We see that the volume column is empty, so we will remove that column\n",
    "SP_Data = SP_Data.drop('Volume', axis=1)\n",
    "\n",
    "# Verify that column was dropped\n",
    "print(SP_Data.head())"
   ]
  },
  {
   "cell_type": "markdown",
   "id": "9b804cae-378c-4beb-8917-a1f1fa1dba96",
   "metadata": {},
   "source": [
    "We notice that the two datasets have different sizes, namely a different number of rows. This does not necessarily mean that the date ranges are different (although this is something we should check), since data is tablulated by country and by year in the world happiness report. "
   ]
  },
  {
   "cell_type": "code",
   "execution_count": 44,
   "id": "e7dac57e-5f65-4ada-800c-864a2c2df3c4",
   "metadata": {},
   "outputs": [],
   "source": [
    "# Now we will filter the data to ensure that the data ranges are consistent across the two datasets. \n",
    "# To do so, we will first convert the dates contained with the date data of the S&P 500 data:\n",
    "SP_Data['Date'] = pd.to_datetime(SP_Data['Date'])"
   ]
  },
  {
   "cell_type": "code",
   "execution_count": 45,
   "id": "0c3e194f-0ff9-44a8-ae66-8a8be9e2f92d",
   "metadata": {},
   "outputs": [
    {
     "name": "stdout",
     "output_type": "stream",
     "text": [
      "(2541, 5)\n"
     ]
    }
   ],
   "source": [
    "# Since the data in the World Happiness Dataset starts in 2005, we will filter out all data from the S&P 500 dataset that does not fall after 2005:\n",
    "cutoff_date = pd.to_datetime('2005-01-01')\n",
    "SP_Data = SP_Data.loc[SP_Data['Date'] >= cutoff_date]\n",
    "print(SP_Data.shape)"
   ]
  },
  {
   "cell_type": "code",
   "execution_count": 46,
   "id": "71e34fb4-571d-4ad2-b234-d474e6394e1a",
   "metadata": {},
   "outputs": [
    {
     "name": "stdout",
     "output_type": "stream",
     "text": [
      "2013-04-16 00:00:00\n"
     ]
    }
   ],
   "source": [
    "# Since there was no change in the size of the data from the previous secting, we realize that the S&P 500 dataset must cover a different date range.\n",
    "# We will first indentify earliest data contained within the S&P 500 dataset\n",
    "print(SP_Data['Date'].min())"
   ]
  },
  {
   "cell_type": "code",
   "execution_count": 47,
   "id": "1f455dfb-9b2d-400d-b567-e189380b2c90",
   "metadata": {},
   "outputs": [
    {
     "name": "stdout",
     "output_type": "stream",
     "text": [
      "(2355, 5)\n"
     ]
    }
   ],
   "source": [
    "# Since the earliest data in the S&P500 dataset is 2013 and is not the start of the year, we will remove all data prior to 2014 \n",
    "# for both datasets so that we are comparing the same timeframe and full-year intervals for consistency across both datasets:\n",
    "cutoff_date_new = pd.to_datetime('2014-01-01')\n",
    "SP_Data = SP_Data.loc[SP_Data['Date'] >= cutoff_date_new]\n",
    "print(SP_Data.shape)"
   ]
  },
  {
   "cell_type": "markdown",
   "id": "e62d2ff3-f891-42ed-b7eb-5de6b5229cac",
   "metadata": {},
   "source": [
    "We see that reduced the size of the datset, now we will filter the data contained in the World Happiness set to include the same range:"
   ]
  },
  {
   "cell_type": "code",
   "execution_count": 50,
   "id": "83b2e052-6c57-4277-b30f-18c5b1ff977c",
   "metadata": {},
   "outputs": [
    {
     "name": "stdout",
     "output_type": "stream",
     "text": [
      "(1210, 13)\n"
     ]
    }
   ],
   "source": [
    "# we will remove all rows of data in the world happiness dataset that are before 2014:\n",
    "cutoff_year = 2014\n",
    "world_happiness = world_happiness.loc[world_happiness['Year'] >= cutoff_year]\n",
    "print(world_happiness.shape)"
   ]
  },
  {
   "cell_type": "markdown",
   "id": "4bd5d0da-4a19-4c85-a32a-216213008e41",
   "metadata": {},
   "source": [
    "We see that this has significantly reduced the size of the dataset. Fortunately, we can now compare the two datasets more effectively. Now we will explore the data from both datasets in greater detail: \n"
   ]
  },
  {
   "cell_type": "code",
   "execution_count": null,
   "id": "784c73f5-c93c-4604-9347-f6bd4bbd96cb",
   "metadata": {},
   "outputs": [],
   "source": []
  }
 ],
 "metadata": {
  "kernelspec": {
   "display_name": "Python 3 (ipykernel)",
   "language": "python",
   "name": "python3"
  },
  "language_info": {
   "codemirror_mode": {
    "name": "ipython",
    "version": 3
   },
   "file_extension": ".py",
   "mimetype": "text/x-python",
   "name": "python",
   "nbconvert_exporter": "python",
   "pygments_lexer": "ipython3",
   "version": "3.9.12"
  }
 },
 "nbformat": 4,
 "nbformat_minor": 5
}
